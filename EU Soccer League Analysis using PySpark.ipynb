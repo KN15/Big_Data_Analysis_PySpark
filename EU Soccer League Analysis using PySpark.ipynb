{
 "cells": [
  {
   "cell_type": "markdown",
   "metadata": {},
   "source": [
    "### ALY6110 - Final Project on Big Data Analytics using European Soccer Leagues games data from Kaggel"
   ]
  },
  {
   "cell_type": "markdown",
   "metadata": {},
   "source": [
    "#### Big Data is being used these days in Sports widely. Instead of relying on intuition, experience and anecdotes, sports participants and enthusiasts can examine data that tells the real story to help with every aspect of the game. Here in this project we are analyzing games from European Soccer Leagues.\n",
    "\n",
    "#### Dataset Information\n",
    "- Data source : \"Kaggle\"\n",
    "- Data : European Soccer Leagues events\n",
    "- Content: Granular view of 9,074 games\n",
    "- Number of Records : 941009 rows and 22 columns\n",
    "- Countries : England, Spain, Germany, Italy, and France\n",
    "- Year: 2011 to 2016\n",
    "\n",
    "#### Source\n",
    "https://www.kaggle.com/secareanualin/football-events\n",
    "\n",
    "#### Files\n",
    "- events.csv contains event data about each game\n",
    "- ginf.csv - contains metadata and market odds about each game.\n",
    "- dictionary.txt contains a dictionary with the textual description of each categorical variable coded with integer.\n",
    "\n",
    "\n",
    "#### The primary dataset is specific events from the games in chronological order, including key information like:\n",
    "\n",
    "- id_odsp – unique identifier of game\n",
    "- time – minute of the game\n",
    "- event_type – primary event\n",
    "- event_team – the team that produced the event\n",
    "- player – name of the player involved in the main event\n",
    "- shot_place – placement of the shot, 13 possible placement locations\n",
    "- shot_outcome – 4 possible outcomes\n",
    "- location – location on the pitch where the event happened, 19 possible locations\n",
    "- is_goal – binary variable if the shot resulted in a goal (own goals included)\n",
    "And more..\n",
    "\n",
    "#### The second smaller dataset includes high-level information and advanced stats with one record per game.\n",
    "\n",
    "Key attributes are “League”, “Season”, “Country”, “Home Team”, “Away Team” and various market odds.\n",
    "\n",
    "#### Questions we tried to answer using this datasets\n",
    "- Que1. Which are the places on field where maximum number of goals are scored ?\n",
    "\n",
    "- Que 2. Which countries have scored maximum no. of goals in all tournaments ?\n",
    "\n",
    "- Que 3. At what minutes most number of goals are scored?\n",
    "\n",
    "- Que 4. At what minutes maximum number of yellow card were given ?\n",
    "\n",
    "- Que 5. At what minutes maximum number of red card were given ?\n",
    "\n",
    "- Que 6. At what time most number of substitution were made ?\n",
    "\n",
    "- Que 7. Goal wise distribution of Location and shot place for 'Spain'\n",
    "\n",
    "- Que 8. Goal distribution in different time bins for all countries\n",
    "\n",
    "#### Approach taken for analysis\n",
    "- 1 Data Exploration\n",
    "- 2 Data Data Processing\n",
    "    - Data Cleaning\n",
    "    - Treating Null/Missing values\n",
    "    - Getting rid of unwanted columns\n",
    "- 3 Data Tranformations\n",
    "- 4 Data Merge\n",
    "- 5 Data Analysis\n",
    "- 6 Data Visualization\n",
    "\n",
    "#### References\n",
    "- Grag.A.,(2018 July 9). Analyze Games from European Soccer Leagues with Apache Spark and Databricks\n",
    "Retrieved from: https://databricks.com/blog/2018/07/09/analyze-games-from-european-soccer-leagues-with-apache-spark-and-databricks.html\n",
    "\n",
    "- Secareanu.A.,(n.d.).Football Events. More than 900,000 events from 9,074 football games across Europe. Retrieved from :https://www.kaggle.com/secareanualin/football-events\n"
   ]
  },
  {
   "cell_type": "code",
   "execution_count": 1,
   "metadata": {},
   "outputs": [],
   "source": [
    "# Create spark session\n",
    "from pyspark.sql import SparkSession\n",
    "\n",
    "spark = SparkSession \\\n",
    "    .builder \\\n",
    "    .appName(\"Python Spark SQL basic example\") \\\n",
    "    .config(\"spark.some.config.option\", \"some-value\") \\\n",
    "    .getOrCreate()"
   ]
  },
  {
   "cell_type": "code",
   "execution_count": 2,
   "metadata": {},
   "outputs": [],
   "source": [
    "# Import data types\n",
    "from pyspark.sql.types import *\n",
    "\n",
    "sc = spark.sparkContext"
   ]
  },
  {
   "cell_type": "code",
   "execution_count": 3,
   "metadata": {},
   "outputs": [],
   "source": [
    "#Importing the libraries\n",
    "import numpy as np # linear algebra\n",
    "import pandas as pd # data processing, CSV file I/O (e.g. pd.read_csv)\n",
    "import matplotlib.pyplot as plt # basic plotting\n",
    "import seaborn as sns # more plotting"
   ]
  },
  {
   "cell_type": "code",
   "execution_count": 4,
   "metadata": {},
   "outputs": [],
   "source": [
    "#Read the Events dataset\n",
    "eventsDf = spark.read.options(header=\"true\",\\\n",
    "                              inferSchema=\"true\",\\\n",
    "                              nullValue=\"NA\",\\\n",
    "                              mode=\"failfast\")\\\n",
    "                             .csv(\"Game_Events_Data/events.csv\")\n"
   ]
  },
  {
   "cell_type": "markdown",
   "metadata": {},
   "source": [
    "### Data Exploration & Processing of Events dataset"
   ]
  },
  {
   "cell_type": "code",
   "execution_count": 5,
   "metadata": {},
   "outputs": [
    {
     "name": "stdout",
     "output_type": "stream",
     "text": [
      "Data is having 941009 rows and 22 columns\n"
     ]
    }
   ],
   "source": [
    "# Data specs\n",
    "print('Data is having', eventsDf.count(), \"rows and\", len(eventsDf.columns), 'columns' )"
   ]
  },
  {
   "cell_type": "code",
   "execution_count": 6,
   "metadata": {},
   "outputs": [
    {
     "name": "stdout",
     "output_type": "stream",
     "text": [
      "root\n",
      " |-- id_odsp: string (nullable = true)\n",
      " |-- id_event: string (nullable = true)\n",
      " |-- sort_order: integer (nullable = true)\n",
      " |-- time: integer (nullable = true)\n",
      " |-- text: string (nullable = true)\n",
      " |-- event_type: integer (nullable = true)\n",
      " |-- event_type2: integer (nullable = true)\n",
      " |-- side: integer (nullable = true)\n",
      " |-- event_team: string (nullable = true)\n",
      " |-- opponent: string (nullable = true)\n",
      " |-- player: string (nullable = true)\n",
      " |-- player2: string (nullable = true)\n",
      " |-- player_in: string (nullable = true)\n",
      " |-- player_out: string (nullable = true)\n",
      " |-- shot_place: integer (nullable = true)\n",
      " |-- shot_outcome: integer (nullable = true)\n",
      " |-- is_goal: integer (nullable = true)\n",
      " |-- location: integer (nullable = true)\n",
      " |-- bodypart: integer (nullable = true)\n",
      " |-- assist_method: integer (nullable = true)\n",
      " |-- situation: integer (nullable = true)\n",
      " |-- fast_break: integer (nullable = true)\n",
      "\n"
     ]
    }
   ],
   "source": [
    "# Data Schema\n",
    "eventsDf.printSchema()"
   ]
  },
  {
   "cell_type": "code",
   "execution_count": 7,
   "metadata": {},
   "outputs": [
    {
     "data": {
      "text/plain": [
       "3"
      ]
     },
     "execution_count": 7,
     "metadata": {},
     "output_type": "execute_result"
    }
   ],
   "source": [
    "# Get Partitions\n",
    "eventsDf.rdd.getNumPartitions()"
   ]
  },
  {
   "cell_type": "code",
   "execution_count": 8,
   "metadata": {},
   "outputs": [
    {
     "name": "stdout",
     "output_type": "stream",
     "text": [
      "+---------+---------+----------+----+--------------------+----------+-----------+----+----------+-----------------+-------------+-----------+---------+----------+----------+------------+-------+--------+--------+-------------+---------+----------+\n",
      "|  id_odsp| id_event|sort_order|time|                text|event_type|event_type2|side|event_team|         opponent|       player|    player2|player_in|player_out|shot_place|shot_outcome|is_goal|location|bodypart|assist_method|situation|fast_break|\n",
      "+---------+---------+----------+----+--------------------+----------+-----------+----+----------+-----------------+-------------+-----------+---------+----------+----------+------------+-------+--------+--------+-------------+---------+----------+\n",
      "|UFot0hit/|UFot0hit1|         1|   2|Attempt missed. M...|         1|         12|   2|Hamburg SV|Borussia Dortmund|mladen petric|gokhan tore|     null|      null|         6|           2|      0|       9|       2|            1|        1|         0|\n",
      "+---------+---------+----------+----+--------------------+----------+-----------+----+----------+-----------------+-------------+-----------+---------+----------+----------+------------+-------+--------+--------+-------------+---------+----------+\n",
      "only showing top 1 row\n",
      "\n"
     ]
    }
   ],
   "source": [
    "# Show sample data\n",
    "eventsDf.show(1)"
   ]
  },
  {
   "cell_type": "code",
   "execution_count": 9,
   "metadata": {},
   "outputs": [
    {
     "name": "stdout",
     "output_type": "stream",
     "text": [
      "+------+----------+--------+----------+-----------+----------+------------+--------+--------+-------------+---------+\n",
      "|player|event_team|opponent|event_type|event_type2|shot_place|shot_outcome|location|bodypart|assist_method|situation|\n",
      "+------+----------+--------+----------+-----------+----------+------------+--------+--------+-------------+---------+\n",
      "| 61000|         0|       0|         0|     726716|    713550|      712511|  473942|  711824|            0|   711872|\n",
      "+------+----------+--------+----------+-----------+----------+------------+--------+--------+-------------+---------+\n",
      "\n"
     ]
    }
   ],
   "source": [
    "# Checking if null values are present in variable of interest\n",
    "from pyspark.sql.functions import isnan, when, count, col\n",
    "tempDF = eventsDf[['player', 'event_team', 'opponent', 'event_type', 'event_type2', 'shot_place', \n",
    "                   'shot_outcome', 'location', 'bodypart', 'assist_method', 'situation']]\n",
    "\n",
    "tempDF.select([count(when(isnan(c) | col(c).isNull(), c)).alias(c) for c in tempDF.columns]).show()"
   ]
  },
  {
   "cell_type": "code",
   "execution_count": null,
   "metadata": {},
   "outputs": [],
   "source": [
    "# Handling Null Values\n",
    "eventsDf = eventsDf.na.fill({'player': 'NA', 'event_team': 'NA', 'opponent': 'NA', \n",
    "                             'event_type': 'NA', 'event_type2': 'NA', 'shot_place': 'NA', \n",
    "                             'shot_outcome': 'NA', 'location': 'NA', 'bodypart': 'NA', \n",
    "                             'assist_method': 'NA', 'situation': 'NA'})"
   ]
  },
  {
   "cell_type": "markdown",
   "metadata": {},
   "source": [
    "### Data Exploration and Processing of Game Info dataset "
   ]
  },
  {
   "cell_type": "code",
   "execution_count": 11,
   "metadata": {},
   "outputs": [],
   "source": [
    "#Read the Game Info dataset\n",
    "gameDf = spark.read.options(header=\"true\",\\\n",
    "                              inferSchema=\"true\",\\\n",
    "                              nullValue=\"NA\",\\\n",
    "                              mode=\"failfast\")\\\n",
    "                             .csv(\"Game_Events_Data/ginf.csv\")"
   ]
  },
  {
   "cell_type": "code",
   "execution_count": 12,
   "metadata": {},
   "outputs": [
    {
     "name": "stdout",
     "output_type": "stream",
     "text": [
      "Data is having 10112 rows and 18 columns\n"
     ]
    }
   ],
   "source": [
    "# Data specs\n",
    "print('Data is having', gameDf.count(), \"rows and\", len(gameDf.columns), 'columns' )"
   ]
  },
  {
   "cell_type": "code",
   "execution_count": 13,
   "metadata": {},
   "outputs": [
    {
     "name": "stdout",
     "output_type": "stream",
     "text": [
      "root\n",
      " |-- id_odsp: string (nullable = true)\n",
      " |-- link_odsp: string (nullable = true)\n",
      " |-- adv_stats: boolean (nullable = true)\n",
      " |-- date: timestamp (nullable = true)\n",
      " |-- league: string (nullable = true)\n",
      " |-- season: integer (nullable = true)\n",
      " |-- country: string (nullable = true)\n",
      " |-- ht: string (nullable = true)\n",
      " |-- at: string (nullable = true)\n",
      " |-- fthg: integer (nullable = true)\n",
      " |-- ftag: integer (nullable = true)\n",
      " |-- odd_h: double (nullable = true)\n",
      " |-- odd_d: double (nullable = true)\n",
      " |-- odd_a: double (nullable = true)\n",
      " |-- odd_over: double (nullable = true)\n",
      " |-- odd_under: double (nullable = true)\n",
      " |-- odd_bts: double (nullable = true)\n",
      " |-- odd_bts_n: double (nullable = true)\n",
      "\n"
     ]
    }
   ],
   "source": [
    "# Data Schema\n",
    "gameDf.printSchema()"
   ]
  },
  {
   "cell_type": "code",
   "execution_count": 14,
   "metadata": {},
   "outputs": [
    {
     "data": {
      "text/plain": [
       "1"
      ]
     },
     "execution_count": 14,
     "metadata": {},
     "output_type": "execute_result"
    }
   ],
   "source": [
    "# Get Partitions\n",
    "gameDf.rdd.getNumPartitions()"
   ]
  },
  {
   "cell_type": "code",
   "execution_count": 15,
   "metadata": {},
   "outputs": [
    {
     "name": "stdout",
     "output_type": "stream",
     "text": [
      "+---------+--------------------+---------+-------------------+------+------+-------+-----------------+-----------+----+----+-----+-----+-----+--------+---------+-------+---------+\n",
      "|  id_odsp|           link_odsp|adv_stats|               date|league|season|country|               ht|         at|fthg|ftag|odd_h|odd_d|odd_a|odd_over|odd_under|odd_bts|odd_bts_n|\n",
      "+---------+--------------------+---------+-------------------+------+------+-------+-----------------+-----------+----+----+-----+-----+-----+--------+---------+-------+---------+\n",
      "|UFot0hit/|/soccer/germany/b...|     true|2011-08-05 00:00:00|    D1|  2012|germany|Borussia Dortmund| Hamburg SV|   3|   1| 1.56| 4.41| 7.42|    null|     null|   null|     null|\n",
      "|Aw5DflLH/|/soccer/germany/b...|     true|2011-08-06 00:00:00|    D1|  2012|germany|      FC Augsburg|SC Freiburg|   2|   2| 2.36|  3.6|  3.4|    null|     null|   null|     null|\n",
      "+---------+--------------------+---------+-------------------+------+------+-------+-----------------+-----------+----+----+-----+-----+-----+--------+---------+-------+---------+\n",
      "only showing top 2 rows\n",
      "\n"
     ]
    }
   ],
   "source": [
    "# Show sample data\n",
    "gameDf.show(2)"
   ]
  },
  {
   "cell_type": "code",
   "execution_count": 16,
   "metadata": {},
   "outputs": [],
   "source": [
    "# Get only required columns\n",
    "gameDf = gameDf[['id_odsp', 'country', 'adv_stats', 'date', 'league', 'season']]"
   ]
  },
  {
   "cell_type": "code",
   "execution_count": 17,
   "metadata": {},
   "outputs": [
    {
     "name": "stdout",
     "output_type": "stream",
     "text": [
      "+---------+-------+---------+-------------------+------+------+\n",
      "|  id_odsp|country|adv_stats|               date|league|season|\n",
      "+---------+-------+---------+-------------------+------+------+\n",
      "|UFot0hit/|germany|     true|2011-08-05 00:00:00|    D1|  2012|\n",
      "|Aw5DflLH/|germany|     true|2011-08-06 00:00:00|    D1|  2012|\n",
      "+---------+-------+---------+-------------------+------+------+\n",
      "only showing top 2 rows\n",
      "\n"
     ]
    }
   ],
   "source": [
    "gameDf.show(2)"
   ]
  },
  {
   "cell_type": "code",
   "execution_count": 18,
   "metadata": {},
   "outputs": [
    {
     "name": "stdout",
     "output_type": "stream",
     "text": [
      "+-------+-------+---------+----+------+------+\n",
      "|id_odsp|country|adv_stats|date|league|season|\n",
      "+-------+-------+---------+----+------+------+\n",
      "|      0|      0|        0|   0|     0|     0|\n",
      "+-------+-------+---------+----+------+------+\n",
      "\n"
     ]
    }
   ],
   "source": [
    "# Check if dataset needs to handle null values\n",
    "gameDf.select([count(when(col(c).isNull(), c)).alias(c) for c in gameDf.columns]).show()\n"
   ]
  },
  {
   "cell_type": "markdown",
   "metadata": {},
   "source": [
    "No null values, so no need to fill any"
   ]
  },
  {
   "cell_type": "markdown",
   "metadata": {},
   "source": [
    "### Data Processing to add names from dictionary.txt"
   ]
  },
  {
   "cell_type": "code",
   "execution_count": 19,
   "metadata": {},
   "outputs": [],
   "source": [
    "# convert the dictionary.txt to python dicts\n",
    "\n",
    "evtTypeMap = {0:'Announcement', 1:'Attempt', 2:'Corner', 3:'Foul', 4:'Yellow card', 5:'Second yellow card', 6:'Red card', 7:'Substitution', 8:'Free kick won', 9:'Offside', 10:'Hand ball', 11:'Penalty conceded'}\n",
    "\n",
    "evtTyp2Map = {12:'Key Pass', 13:'Failed through ball', 14:'Sending off', 15:'Own goal'}\n",
    "\n",
    "sideMap = {1:'Home', 2:'Away'}\n",
    "\n",
    "shotPlaceMap = {1:'Bit too high', 2:'Blocked', 3:'Bottom left corner', 4:'Bottom right corner', 5:'Centre of the goal', 6:'High and wide', 7:'Hits the bar', 8:'Misses to the left', 9:'Misses to the right', 10:'Too high', 11:'Top centre of the goal', 12:'Top left corner', 13:'Top right corner'}\n",
    "\n",
    "shotOutcomeMap = {1:'On target', 2:'Off target', 3:'Blocked', 4:'Hit the bar'}\n",
    "\n",
    "locationMap = {1:'Attacking half', 2:'Defensive half', 3:'Centre of the box', 4:'Left wing', 5:'Right wing', 6:'Difficult angle and long range', 7:'Difficult angle on the left', 8:'Difficult angle on the right', 9:'Left side of the box', 10:'Left side of the six yard box', 11:'Right side of the box', 12:'Right side of the six yard box', 13:'Very close range', 14:'Penalty spot', 15:'Outside the box', 16:'Long range', 17:'More than 35 yards', 18:'More than 40 yards', 19:'Not recorded'}\n",
    "\n",
    "bodyPartMap = {1:'Right foot', 2:'Left foot', 3:'Head'}\n",
    "\n",
    "assistMethodMap = {0:'None', 1:'Pass', 2:'Cross', 3:'Headed pass', 4:'Through ball'}\n",
    "\n",
    "situationMap = {1:'Open play', 2:'Set piece', 3:'Corner', 4:'Free kick'}\n",
    "\n",
    "countryCodeMap = {'germany':'DEU', 'france':'FRA', 'england':'GBR', 'spain':'ESP', 'italy':'ITA'}"
   ]
  },
  {
   "cell_type": "code",
   "execution_count": 20,
   "metadata": {},
   "outputs": [
    {
     "name": "stdout",
     "output_type": "stream",
     "text": [
      "+----------+------+\n",
      "|event_type| count|\n",
      "+----------+------+\n",
      "|         1|229135|\n",
      "|         6|  1152|\n",
      "|         3|232925|\n",
      "|         5|   100|\n",
      "|         9| 43476|\n",
      "|         4| 39911|\n",
      "|         8|237932|\n",
      "|         7| 51738|\n",
      "|        10| 10730|\n",
      "|        11|  2706|\n",
      "|         2| 91204|\n",
      "+----------+------+\n",
      "\n"
     ]
    }
   ],
   "source": [
    "#Output before mapping\n",
    "eventsDf.groupBy(\"event_type\").count().show()"
   ]
  },
  {
   "cell_type": "markdown",
   "metadata": {},
   "source": [
    "map values from dictionary to different colums in events dataframe by creating new columns"
   ]
  },
  {
   "cell_type": "code",
   "execution_count": 21,
   "metadata": {},
   "outputs": [],
   "source": [
    "# define ufd for mapping keys to values in dictionary created above\n",
    "from pyspark.sql.types import StringType\n",
    "from pyspark.sql.functions import udf\n",
    "\n",
    "def translateKeys(mapping):\n",
    "    def translateKeys_(col):\n",
    "        return mapping.get(col)\n",
    "    return udf(translateKeys_, StringType())"
   ]
  },
  {
   "cell_type": "code",
   "execution_count": 22,
   "metadata": {},
   "outputs": [
    {
     "data": {
      "text/plain": [
       "DataFrame[id_odsp: string, country: string, country_code: string]"
      ]
     },
     "metadata": {},
     "output_type": "display_data"
    }
   ],
   "source": [
    "# Create country code for easy access to contry column and spelling mistakes in country names\n",
    "gameDf = gameDf.withColumn(\"country_code\", translateKeys(countryCodeMap)(\"country\"))\n",
    "\n",
    "display(gameDf['id_odsp','country','country_code'])"
   ]
  },
  {
   "cell_type": "code",
   "execution_count": 23,
   "metadata": {},
   "outputs": [],
   "source": [
    "#add new columns with respective category name from dict\n",
    "eventsDf = (\n",
    "             eventsDf.\n",
    "             withColumn(\"event_type_str\", translateKeys(evtTypeMap)(\"event_type\")).\n",
    "             withColumn(\"event_type2_str\", translateKeys(evtTyp2Map)(\"event_type2\")).\n",
    "             withColumn(\"side_str\", translateKeys(sideMap)(\"side\")).\n",
    "             withColumn(\"shot_place_str\", translateKeys(shotPlaceMap)(\"shot_place\")).\n",
    "             withColumn(\"shot_outcome_str\", translateKeys(shotOutcomeMap)(\"shot_outcome\")).\n",
    "             withColumn(\"location_str\", translateKeys(locationMap)(\"location\")).\n",
    "             withColumn(\"bodypart_str\", translateKeys(bodyPartMap)(\"bodypart\")).\n",
    "             withColumn(\"assist_method_str\", translateKeys(assistMethodMap)(\"assist_method\")).\n",
    "             withColumn(\"situation_str\", translateKeys(situationMap)(\"situation\"))\n",
    "           )"
   ]
  },
  {
   "cell_type": "code",
   "execution_count": 24,
   "metadata": {},
   "outputs": [
    {
     "name": "stdout",
     "output_type": "stream",
     "text": [
      "root\n",
      " |-- id_odsp: string (nullable = true)\n",
      " |-- id_event: string (nullable = true)\n",
      " |-- sort_order: integer (nullable = true)\n",
      " |-- time: integer (nullable = true)\n",
      " |-- text: string (nullable = true)\n",
      " |-- event_type: integer (nullable = true)\n",
      " |-- event_type2: integer (nullable = true)\n",
      " |-- side: integer (nullable = true)\n",
      " |-- event_team: string (nullable = false)\n",
      " |-- opponent: string (nullable = false)\n",
      " |-- player: string (nullable = false)\n",
      " |-- player2: string (nullable = true)\n",
      " |-- player_in: string (nullable = true)\n",
      " |-- player_out: string (nullable = true)\n",
      " |-- shot_place: integer (nullable = true)\n",
      " |-- shot_outcome: integer (nullable = true)\n",
      " |-- is_goal: integer (nullable = true)\n",
      " |-- location: integer (nullable = true)\n",
      " |-- bodypart: integer (nullable = true)\n",
      " |-- assist_method: integer (nullable = true)\n",
      " |-- situation: integer (nullable = true)\n",
      " |-- fast_break: integer (nullable = true)\n",
      " |-- event_type_str: string (nullable = true)\n",
      " |-- event_type2_str: string (nullable = true)\n",
      " |-- side_str: string (nullable = true)\n",
      " |-- shot_place_str: string (nullable = true)\n",
      " |-- shot_outcome_str: string (nullable = true)\n",
      " |-- location_str: string (nullable = true)\n",
      " |-- bodypart_str: string (nullable = true)\n",
      " |-- assist_method_str: string (nullable = true)\n",
      " |-- situation_str: string (nullable = true)\n",
      "\n"
     ]
    }
   ],
   "source": [
    "# Check if all columns created with string type for respevtive dictionary mapping\n",
    "eventsDf.printSchema()"
   ]
  },
  {
   "cell_type": "code",
   "execution_count": 25,
   "metadata": {},
   "outputs": [
    {
     "name": "stdout",
     "output_type": "stream",
     "text": [
      "+------------------+------+\n",
      "|    event_type_str| count|\n",
      "+------------------+------+\n",
      "|         Hand ball| 10730|\n",
      "|          Red card|  1152|\n",
      "|              Foul|232925|\n",
      "|       Yellow card| 39911|\n",
      "|           Attempt|229135|\n",
      "|      Substitution| 51738|\n",
      "|           Offside| 43476|\n",
      "|  Penalty conceded|  2706|\n",
      "|     Free kick won|237932|\n",
      "|Second yellow card|   100|\n",
      "|            Corner| 91204|\n",
      "+------------------+------+\n",
      "\n"
     ]
    }
   ],
   "source": [
    "# Check if values are reflected correctly for keys\n",
    "eventsDf.groupBy(\"event_type_str\").count().show()"
   ]
  },
  {
   "cell_type": "markdown",
   "metadata": {},
   "source": [
    "Joine events and games dataframes"
   ]
  },
  {
   "cell_type": "code",
   "execution_count": 26,
   "metadata": {},
   "outputs": [],
   "source": [
    "# Final dataframe generated by joining data from both events ans games dataset\n",
    "finalDf = (\n",
    "  eventsDf.join(gameDf, eventsDf.id_odsp == gameDf.id_odsp, 'inner').\n",
    "  select(eventsDf.id_odsp, eventsDf.id_event, eventsDf.sort_order, eventsDf.time, eventsDf.event_type, \n",
    "         eventsDf.event_type_str, eventsDf.event_type2, eventsDf.event_type2_str, eventsDf.side, \n",
    "         eventsDf.side_str, eventsDf.event_team, eventsDf.opponent, eventsDf.player, eventsDf.player2, \n",
    "         eventsDf.player_in, eventsDf.player_out, eventsDf.shot_place, eventsDf.shot_place_str, \n",
    "         eventsDf.shot_outcome, eventsDf.shot_outcome_str, eventsDf.is_goal, eventsDf.location, \n",
    "         eventsDf.location_str, eventsDf.bodypart, eventsDf.bodypart_str, eventsDf.assist_method,\n",
    "         eventsDf.assist_method_str, eventsDf.situation, eventsDf.situation_str, gameDf.date, gameDf.league,\n",
    "         gameDf.season, gameDf.country, gameDf.country_code, gameDf.adv_stats)\n",
    ")"
   ]
  },
  {
   "cell_type": "code",
   "execution_count": 27,
   "metadata": {},
   "outputs": [
    {
     "name": "stdout",
     "output_type": "stream",
     "text": [
      "root\n",
      " |-- id_odsp: string (nullable = true)\n",
      " |-- id_event: string (nullable = true)\n",
      " |-- sort_order: integer (nullable = true)\n",
      " |-- time: integer (nullable = true)\n",
      " |-- event_type: integer (nullable = true)\n",
      " |-- event_type_str: string (nullable = true)\n",
      " |-- event_type2: integer (nullable = true)\n",
      " |-- event_type2_str: string (nullable = true)\n",
      " |-- side: integer (nullable = true)\n",
      " |-- side_str: string (nullable = true)\n",
      " |-- event_team: string (nullable = false)\n",
      " |-- opponent: string (nullable = false)\n",
      " |-- player: string (nullable = false)\n",
      " |-- player2: string (nullable = true)\n",
      " |-- player_in: string (nullable = true)\n",
      " |-- player_out: string (nullable = true)\n",
      " |-- shot_place: integer (nullable = true)\n",
      " |-- shot_place_str: string (nullable = true)\n",
      " |-- shot_outcome: integer (nullable = true)\n",
      " |-- shot_outcome_str: string (nullable = true)\n",
      " |-- is_goal: integer (nullable = true)\n",
      " |-- location: integer (nullable = true)\n",
      " |-- location_str: string (nullable = true)\n",
      " |-- bodypart: integer (nullable = true)\n",
      " |-- bodypart_str: string (nullable = true)\n",
      " |-- assist_method: integer (nullable = true)\n",
      " |-- assist_method_str: string (nullable = true)\n",
      " |-- situation: integer (nullable = true)\n",
      " |-- situation_str: string (nullable = true)\n",
      " |-- date: timestamp (nullable = true)\n",
      " |-- league: string (nullable = true)\n",
      " |-- season: integer (nullable = true)\n",
      " |-- country: string (nullable = true)\n",
      " |-- country_code: string (nullable = true)\n",
      " |-- adv_stats: boolean (nullable = true)\n",
      "\n"
     ]
    }
   ],
   "source": [
    "# Check final schema to explore all columns\n",
    "finalDf.printSchema()"
   ]
  },
  {
   "cell_type": "code",
   "execution_count": 28,
   "metadata": {},
   "outputs": [],
   "source": [
    "# Create time bin to explore different time related analysis\n",
    "from pyspark.ml.feature import QuantileDiscretizer\n",
    "\n",
    "finalDf = QuantileDiscretizer(numBuckets=10, inputCol=\"time\", outputCol=\"time_bin\").fit(finalDf).transform(finalDf)\n"
   ]
  },
  {
   "cell_type": "code",
   "execution_count": 29,
   "metadata": {},
   "outputs": [
    {
     "name": "stdout",
     "output_type": "stream",
     "text": [
      "+-------+--------+----------+----+----------+--------------+-----------+---------------+----+--------+----------+--------+------+-------+---------+----------+----------+--------------+------------+----------------+-------+--------+------------+--------+------------+-------------+-----------------+---------+-------------+----+------+------+-------+------------+---------+--------+\n",
      "|id_odsp|id_event|sort_order|time|event_type|event_type_str|event_type2|event_type2_str|side|side_str|event_team|opponent|player|player2|player_in|player_out|shot_place|shot_place_str|shot_outcome|shot_outcome_str|is_goal|location|location_str|bodypart|bodypart_str|assist_method|assist_method_str|situation|situation_str|date|league|season|country|country_code|adv_stats|time_bin|\n",
      "+-------+--------+----------+----+----------+--------------+-----------+---------------+----+--------+----------+--------+------+-------+---------+----------+----------+--------------+------------+----------------+-------+--------+------------+--------+------------+-------------+-----------------+---------+-------------+----+------+------+-------+------------+---------+--------+\n",
      "|      0|       0|         0|   0|         0|             0|     726716|         726716|   0|       0|         0|       0|     0| 649699|   889294|    889271|    713550|        713550|      712511|          712511|      0|  473942|      473942|  711824|      711824|            0|                0|   711872|       711872|   0|     0|     0|      0|           0|        0|       0|\n",
      "+-------+--------+----------+----+----------+--------------+-----------+---------------+----+--------+----------+--------+------+-------+---------+----------+----------+--------------+------------+----------------+-------+--------+------------+--------+------------+-------------+-----------------+---------+-------------+----+------+------+-------+------------+---------+--------+\n",
      "\n"
     ]
    }
   ],
   "source": [
    "# Check if dataset needs to handle null values\n",
    "finalDf.select([count(when(col(c).isNull(), c)).alias(c) for c in finalDf.columns]).show()"
   ]
  },
  {
   "cell_type": "code",
   "execution_count": 30,
   "metadata": {},
   "outputs": [],
   "source": [
    "# Handling Null Values\n",
    "finalDf = finalDf.na.fill({'player': 'NA', 'event_team': 'NA', 'opponent': 'NA', \n",
    "                             'event_type_str': 'NA', 'event_type2_str': 'NA', 'shot_place_str': 'NA', \n",
    "                             'shot_outcome_str': 'NA', 'location_str': 'NA', 'bodypart_str': 'NA', \n",
    "                             'assist_method_str': 'NA', 'situation_str': 'NA'})\n"
   ]
  },
  {
   "cell_type": "code",
   "execution_count": 55,
   "metadata": {},
   "outputs": [
    {
     "data": {
      "text/plain": [
       "3"
      ]
     },
     "execution_count": 55,
     "metadata": {},
     "output_type": "execute_result"
    }
   ],
   "source": [
    "finalDf.rdd.getNumPartitions()"
   ]
  },
  {
   "cell_type": "markdown",
   "metadata": {},
   "source": [
    "### Data Analysis and Visualization"
   ]
  },
  {
   "cell_type": "code",
   "execution_count": 31,
   "metadata": {},
   "outputs": [
    {
     "name": "stdout",
     "output_type": "stream",
     "text": [
      "+-------------------+---------+\n",
      "|         shot_place|TOT_GOALS|\n",
      "+-------------------+---------+\n",
      "| Bottom left corner|     7212|\n",
      "|Bottom right corner|     6932|\n",
      "| Centre of the goal|     4446|\n",
      "|   Top right corner|     2157|\n",
      "|    Top left corner|     2023|\n",
      "|            Unknown|     1676|\n",
      "+-------------------+---------+\n",
      "\n"
     ]
    }
   ],
   "source": [
    "# Register the DataFrame as a SQL temporary view\n",
    "finalDf.createOrReplaceTempView(\"soccer\")\n",
    "\n",
    "# - Que1. Which are the places on field where maximum number of goals are scored ?\n",
    "que1 = spark.sql(\"SELECT CASE WHEN shot_place_str == 'NA' THEN 'Unknown' ELSE shot_place_str END shot_place,\\\n",
    "                    COUNT(1) AS TOT_GOALS \\\n",
    "                    FROM soccer WHERE is_goal = 1 \\\n",
    "                    GROUP BY shot_place_str \\\n",
    "                    ORDER BY TOT_GOALS DESC\")\n",
    "que1.show()"
   ]
  },
  {
   "cell_type": "code",
   "execution_count": 32,
   "metadata": {},
   "outputs": [
    {
     "data": {
      "image/png": "[encoded data removed]",
      "text/plain": [
       "<Figure size 432x288 with 1 Axes>"
      ]
     },
     "metadata": {},
     "output_type": "display_data"
    }
   ],
   "source": [
    "# Plot above answer by converting to pandas dataframe\n",
    "res1 = que1.toPandas()\n",
    "\n",
    "plot1 = res1.plot.bar(x='shot_place', y='TOT_GOALS')"
   ]
  },
  {
   "cell_type": "markdown",
   "metadata": {},
   "source": [
    "Ans - Maximum goals are scored at the Bottom left corner and followed by Bottom right corner by most of the teams in tournaments"
   ]
  },
  {
   "cell_type": "code",
   "execution_count": 33,
   "metadata": {},
   "outputs": [
    {
     "name": "stdout",
     "output_type": "stream",
     "text": [
      "+-------+---------+\n",
      "|country|TOT_GOALS|\n",
      "+-------+---------+\n",
      "|  spain|     5583|\n",
      "|  italy|     5491|\n",
      "| france|     5199|\n",
      "|germany|     4621|\n",
      "|england|     3552|\n",
      "+-------+---------+\n",
      "\n"
     ]
    }
   ],
   "source": [
    "#Que 2. Which countries have scored maximum no. of goals in all tournaments ?\n",
    "que2 = spark.sql(\"SELECT country, COUNT(1) AS TOT_GOALS FROM soccer WHERE is_goal = 1 GROUP BY country\\\n",
    "                    ORDER BY 2 DESC\")\n",
    "que2.show()"
   ]
  },
  {
   "cell_type": "code",
   "execution_count": 34,
   "metadata": {},
   "outputs": [
    {
     "data": {
      "image/png": "[encoded data removed]",
      "text/plain": [
       "<Figure size 360x360 with 1 Axes>"
      ]
     },
     "metadata": {},
     "output_type": "display_data"
    }
   ],
   "source": [
    "# Plot above result in pie chart\n",
    "res2 = que2.toPandas()\n",
    "\n",
    "plot2 = res2.plot.pie(y='TOT_GOALS', labels =res2.country, figsize=(5, 5))"
   ]
  },
  {
   "cell_type": "markdown",
   "metadata": {},
   "source": [
    "Ans - Spain is the topper among all the countries in terms of no. of goals in all tournaments"
   ]
  },
  {
   "cell_type": "code",
   "execution_count": 35,
   "metadata": {},
   "outputs": [
    {
     "name": "stdout",
     "output_type": "stream",
     "text": [
      "+----+------------+\n",
      "|time|num_of_goals|\n",
      "+----+------------+\n",
      "|  90|        1244|\n",
      "|  45|         594|\n",
      "|  56|         339|\n",
      "|  72|         308|\n",
      "|  50|         307|\n",
      "|  86|         306|\n",
      "|  73|         306|\n",
      "|  88|         305|\n",
      "|  61|         304|\n",
      "|  55|         300|\n",
      "+----+------------+\n",
      "\n"
     ]
    }
   ],
   "source": [
    "# Que 3. At what minutes most number of goals are scored?\n",
    "que3 = spark.sql(\"SELECT time, count(1) as num_of_goals FROM soccer WHERE is_goal = 1 GROUP BY time ORDER BY 2 DESC LIMIT 10\")\n",
    "                 \n",
    "que3.show()\n"
   ]
  },
  {
   "cell_type": "code",
   "execution_count": 36,
   "metadata": {},
   "outputs": [
    {
     "data": {
      "image/png": "[encoded data removed]",
      "text/plain": [
       "<Figure size 1440x360 with 1 Axes>"
      ]
     },
     "metadata": {},
     "output_type": "display_data"
    }
   ],
   "source": [
    "# Plot above result\n",
    "res3 = que3.toPandas()\n",
    "\n",
    "plot3 = res3.plot.bar(x='time', y='num_of_goals', figsize=(20,5))"
   ]
  },
  {
   "cell_type": "markdown",
   "metadata": {},
   "source": [
    "Ans - No. of goals scored are highest in the 90th and 45th Minute, but please check below results before coming to any conclusion"
   ]
  },
  {
   "cell_type": "code",
   "execution_count": 37,
   "metadata": {},
   "outputs": [
    {
     "name": "stdout",
     "output_type": "stream",
     "text": [
      "+--------+------------+\n",
      "|time_bin|num_of_goals|\n",
      "+--------+------------+\n",
      "|     0.0|        2161|\n",
      "|     1.0|        2331|\n",
      "|     2.0|        2636|\n",
      "|     3.0|        2245|\n",
      "|     4.0|        2572|\n",
      "|     5.0|        2530|\n",
      "|     6.0|        2507|\n",
      "|     7.0|        2235|\n",
      "|     8.0|        2541|\n",
      "|     9.0|        2688|\n",
      "+--------+------------+\n",
      "\n"
     ]
    }
   ],
   "source": [
    "# Que3: Analyze time ranges maximum number of goals are scored\n",
    "que3_ = spark.sql(\"SELECT time_bin, count(1) as num_of_goals FROM soccer \\\n",
    "                    WHERE is_goal = 1 GROUP BY time_bin ORDER BY 1\")\n",
    "                 \n",
    "que3_.show()"
   ]
  },
  {
   "cell_type": "code",
   "execution_count": 38,
   "metadata": {},
   "outputs": [
    {
     "data": {
      "image/png": "[encoded data removed]",
      "text/plain": [
       "<Figure size 1440x360 with 1 Axes>"
      ]
     },
     "metadata": {},
     "output_type": "display_data"
    }
   ],
   "source": [
    "# Plot above result\n",
    "res3_ = que3_.toPandas()\n",
    "\n",
    "plot3_ = res3_.plot.bar(x='time_bin', y='num_of_goals', figsize=(20,5))"
   ]
  },
  {
   "cell_type": "markdown",
   "metadata": {},
   "source": [
    "When no. of goals are plotted against time bins, we can see that the goal distributions is similar across different time frames from 0th to 90th minute in game."
   ]
  },
  {
   "cell_type": "code",
   "execution_count": 39,
   "metadata": {},
   "outputs": [
    {
     "name": "stdout",
     "output_type": "stream",
     "text": [
      "+----+-------------------+\n",
      "|time|num_of_yellow_cards|\n",
      "+----+-------------------+\n",
      "|  90|               2784|\n",
      "|  45|               1106|\n",
      "|  88|                686|\n",
      "|  89|                650|\n",
      "|  87|                624|\n",
      "|  86|                618|\n",
      "|  84|                593|\n",
      "|  85|                592|\n",
      "|  80|                588|\n",
      "|  83|                585|\n",
      "+----+-------------------+\n",
      "\n"
     ]
    }
   ],
   "source": [
    "# Que 4. At what minutes maximum number of yellow card were given ?\n",
    "que4 = spark.sql(\"SELECT time, count(1) as num_of_yellow_cards FROM soccer \\\n",
    "                WHERE event_type_str == 'Yellow card' OR event_type_str == 'Second yellow card' \\\n",
    "                GROUP BY time ORDER BY 2 DESC LIMIT 10\")\n",
    "                 \n",
    "que4.show()"
   ]
  },
  {
   "cell_type": "code",
   "execution_count": 40,
   "metadata": {},
   "outputs": [
    {
     "data": {
      "image/png": "[encoded data removed]",
      "text/plain": [
       "<Figure size 1440x360 with 1 Axes>"
      ]
     },
     "metadata": {},
     "output_type": "display_data"
    }
   ],
   "source": [
    "# Plot above result\n",
    "res4 = que4.toPandas()\n",
    "\n",
    "plot4 = res4.plot.bar(x='time', y='num_of_yellow_cards', figsize=(20,5))"
   ]
  },
  {
   "cell_type": "markdown",
   "metadata": {},
   "source": [
    "Ans - No. of yellow cards are highest during the nervous 90's and then during the mid time"
   ]
  },
  {
   "cell_type": "code",
   "execution_count": 41,
   "metadata": {},
   "outputs": [
    {
     "name": "stdout",
     "output_type": "stream",
     "text": [
      "+--------+-------------------+\n",
      "|time_bin|num_of_yellow_cards|\n",
      "+--------+-------------------+\n",
      "|     0.0|               1319|\n",
      "|     1.0|               2429|\n",
      "|     2.0|               3991|\n",
      "|     3.0|               3960|\n",
      "|     4.0|               4209|\n",
      "|     5.0|               4295|\n",
      "|     6.0|               4683|\n",
      "|     7.0|               4192|\n",
      "|     8.0|               5007|\n",
      "|     9.0|               5926|\n",
      "+--------+-------------------+\n",
      "\n"
     ]
    }
   ],
   "source": [
    "# Que4: Analyze time ranges when maximum yellow cards are given\n",
    "que4_ = spark.sql(\"SELECT time_bin, count(1) as num_of_yellow_cards FROM soccer \\\n",
    "                WHERE event_type_str == 'Yellow card' OR event_type_str == 'Second yellow card' \\\n",
    "                GROUP BY time_bin ORDER BY 1\")\n",
    "                 \n",
    "que4_.show()"
   ]
  },
  {
   "cell_type": "code",
   "execution_count": 42,
   "metadata": {},
   "outputs": [
    {
     "data": {
      "image/png": "[encoded data removed]",
      "text/plain": [
       "<Figure size 1440x360 with 1 Axes>"
      ]
     },
     "metadata": {},
     "output_type": "display_data"
    }
   ],
   "source": [
    "# Plot above result\n",
    "res4_ = que4_.toPandas()\n",
    "\n",
    "plot4_ = res4_.plot.bar(x='time_bin', y='num_of_yellow_cards', figsize=(20,5))"
   ]
  },
  {
   "cell_type": "markdown",
   "metadata": {},
   "source": [
    "The time bin distribution depicts the similar story that, yellow card are given more during the last minutes but they are also given during the mid game"
   ]
  },
  {
   "cell_type": "code",
   "execution_count": 43,
   "metadata": {},
   "outputs": [
    {
     "name": "stdout",
     "output_type": "stream",
     "text": [
      "+----+---------------+\n",
      "|time|num_of_red_card|\n",
      "+----+---------------+\n",
      "|  90|            165|\n",
      "|  82|             29|\n",
      "|  86|             28|\n",
      "|  45|             27|\n",
      "|  83|             25|\n",
      "|  64|             25|\n",
      "|  81|             24|\n",
      "|  72|             22|\n",
      "|  80|             22|\n",
      "|  85|             21|\n",
      "+----+---------------+\n",
      "\n"
     ]
    }
   ],
   "source": [
    "# Que 5. At what minutes maximum number of red card were given ?\n",
    "que5 = spark.sql(\"SELECT time, count(1) as num_of_red_card FROM soccer \\\n",
    "                WHERE event_type_str == 'Red card' \\\n",
    "                GROUP BY time ORDER BY 2 DESC LIMIT 10\")\n",
    "                 \n",
    "que5.show()"
   ]
  },
  {
   "cell_type": "code",
   "execution_count": 44,
   "metadata": {},
   "outputs": [
    {
     "data": {
      "image/png": "[encoded data removed]",
      "text/plain": [
       "<Figure size 1440x360 with 1 Axes>"
      ]
     },
     "metadata": {},
     "output_type": "display_data"
    }
   ],
   "source": [
    "# Plot above result\n",
    "res5 = que5.toPandas()\n",
    "\n",
    "plot5 = res5.plot.bar(x='time', y='num_of_red_card', figsize=(20,5))"
   ]
  },
  {
   "cell_type": "markdown",
   "metadata": {},
   "source": [
    "Ans - Red cards are given most during the last minutes in the game"
   ]
  },
  {
   "cell_type": "code",
   "execution_count": 45,
   "metadata": {},
   "outputs": [
    {
     "name": "stdout",
     "output_type": "stream",
     "text": [
      "+--------+---------------+\n",
      "|time_bin|num_of_red_card|\n",
      "+--------+---------------+\n",
      "|     0.0|             44|\n",
      "|     1.0|             60|\n",
      "|     2.0|             94|\n",
      "|     3.0|             70|\n",
      "|     4.0|             92|\n",
      "|     5.0|             95|\n",
      "|     6.0|            130|\n",
      "|     7.0|            101|\n",
      "|     8.0|            191|\n",
      "|     9.0|            275|\n",
      "+--------+---------------+\n",
      "\n"
     ]
    }
   ],
   "source": [
    "# Que5: Analyze time ranges when maximum red cards are given\n",
    "que5_ = spark.sql(\"SELECT time_bin, count(1) as num_of_red_card FROM soccer \\\n",
    "                WHERE event_type_str == 'Red card' \\\n",
    "                GROUP BY time_bin ORDER BY 1\")\n",
    "                 \n",
    "que5_.show()"
   ]
  },
  {
   "cell_type": "code",
   "execution_count": 46,
   "metadata": {},
   "outputs": [
    {
     "data": {
      "image/png": "[encoded data removed]",
      "text/plain": [
       "<Figure size 1440x360 with 1 Axes>"
      ]
     },
     "metadata": {},
     "output_type": "display_data"
    }
   ],
   "source": [
    "# Plot above result\n",
    "res5_ = que5_.toPandas()\n",
    "\n",
    "plot5_ = res5_.plot.bar(x='time_bin', y='num_of_red_card', figsize=(20,5))"
   ]
  },
  {
   "cell_type": "markdown",
   "metadata": {},
   "source": [
    "Result in time bin tells same story that Red card are highest during the last minutes of the game."
   ]
  },
  {
   "cell_type": "code",
   "execution_count": 47,
   "metadata": {},
   "outputs": [
    {
     "name": "stdout",
     "output_type": "stream",
     "text": [
      "+----+-------------------+\n",
      "|time|total_substitutions|\n",
      "+----+-------------------+\n",
      "|  45|               3645|\n",
      "|  90|               1704|\n",
      "|  78|               1557|\n",
      "|  77|               1530|\n",
      "|  76|               1506|\n",
      "|  81|               1501|\n",
      "|  74|               1485|\n",
      "|  70|               1461|\n",
      "|  80|               1460|\n",
      "|  79|               1459|\n",
      "+----+-------------------+\n",
      "\n"
     ]
    }
   ],
   "source": [
    "# Que 6. At what time most number of substitution were made ?\n",
    "que6 = spark.sql(\"SELECT time, count(1) as total_substitutions FROM soccer \\\n",
    "                WHERE event_type_str == 'Substitution' \\\n",
    "                GROUP BY time ORDER BY 2 DESC LIMIT 10\")\n",
    "                 \n",
    "que6.show()"
   ]
  },
  {
   "cell_type": "code",
   "execution_count": 48,
   "metadata": {},
   "outputs": [
    {
     "data": {
      "image/png": "[encoded data removed]",
      "text/plain": [
       "<Figure size 1440x360 with 1 Axes>"
      ]
     },
     "metadata": {},
     "output_type": "display_data"
    }
   ],
   "source": [
    "# Plot above result\n",
    "res6 = que6.toPandas()\n",
    "\n",
    "plot6 = res6.plot.bar(x='time', y='total_substitutions', figsize=(20,5))"
   ]
  },
  {
   "cell_type": "markdown",
   "metadata": {},
   "source": [
    "Ans - Most substitutions happen suring mid time and end time in game"
   ]
  },
  {
   "cell_type": "code",
   "execution_count": 49,
   "metadata": {},
   "outputs": [
    {
     "name": "stdout",
     "output_type": "stream",
     "text": [
      "+--------+-------------------+\n",
      "|TIME_BIN|total_substitutions|\n",
      "+--------+-------------------+\n",
      "|     0.0|                283|\n",
      "|     1.0|                441|\n",
      "|     2.0|                710|\n",
      "|     3.0|                658|\n",
      "|     4.0|               4233|\n",
      "|     5.0|               4720|\n",
      "|     6.0|              10517|\n",
      "|     7.0|              11488|\n",
      "|     8.0|              12745|\n",
      "|     9.0|               5943|\n",
      "+--------+-------------------+\n",
      "\n"
     ]
    }
   ],
   "source": [
    "# Que6: Analyze time ranges when maximum substitutions are done\n",
    "que6_ = spark.sql(\"SELECT TIME_BIN, count(1) as total_substitutions FROM soccer \\\n",
    "                WHERE event_type_str == 'Substitution' \\\n",
    "                GROUP BY TIME_BIN ORDER BY 1\")\n",
    "                 \n",
    "que6_.show()"
   ]
  },
  {
   "cell_type": "code",
   "execution_count": 50,
   "metadata": {},
   "outputs": [
    {
     "data": {
      "image/png": "[encoded data removed]",
      "text/plain": [
       "<Figure size 1440x360 with 1 Axes>"
      ]
     },
     "metadata": {},
     "output_type": "display_data"
    }
   ],
   "source": [
    "# Plot above result\n",
    "res6_ = que6_.toPandas()\n",
    "\n",
    "plot6_ = res6_.plot.bar(x='TIME_BIN', y='total_substitutions', figsize=(20,5))"
   ]
  },
  {
   "cell_type": "markdown",
   "metadata": {},
   "source": [
    "Ans - The distribution of no. of substitutions along the time bins tells that they are most during the 80th minute in game"
   ]
  },
  {
   "cell_type": "code",
   "execution_count": 51,
   "metadata": {},
   "outputs": [
    {
     "name": "stdout",
     "output_type": "stream",
     "text": [
      "+-------------------+--------------------+---------+\n",
      "|         shot_place|            location|TOT_GOALS|\n",
      "+-------------------+--------------------+---------+\n",
      "| Bottom left corner|   Centre of the box|      832|\n",
      "| Bottom left corner|    Very close range|      219|\n",
      "| Bottom left corner|     Outside the box|      166|\n",
      "|Bottom right corner|    Very close range|      174|\n",
      "|Bottom right corner|   Centre of the box|      813|\n",
      "|Bottom right corner|     Outside the box|      163|\n",
      "| Centre of the goal|   Centre of the box|      429|\n",
      "| Centre of the goal|        Penalty spot|       65|\n",
      "| Centre of the goal|    Very close range|      275|\n",
      "|    Top left corner|    Very close range|       56|\n",
      "|    Top left corner|   Centre of the box|      172|\n",
      "|    Top left corner|     Outside the box|       63|\n",
      "|   Top right corner|   Centre of the box|      178|\n",
      "|   Top right corner|     Outside the box|       74|\n",
      "|   Top right corner|Left side of the box|       48|\n",
      "+-------------------+--------------------+---------+\n",
      "\n"
     ]
    }
   ],
   "source": [
    "# Que 7. Goal wise distribution of Location and shot place for 'Spain'\n",
    "que7 = spark.sql(\"SELECT shot_place, location, TOT_GOALS FROM ( \\\n",
    "                    SELECT shot_place, location, TOT_GOALS, \\\n",
    "                    RANK() OVER (PARTITION BY shot_place ORDER BY TOT_GOALS DESC) goals_rank \\\n",
    "                    FROM ( \\\n",
    "                          SELECT \\\n",
    "                          CASE WHEN shot_place_str = 'NA' THEN 'Unknown' ELSE shot_place_str END AS shot_place, \\\n",
    "                          CASE WHEN location_str = 'NA' THEN 'Unknown' ELSE location_str END AS location, \\\n",
    "                          COUNT(1) AS TOT_GOALS \\\n",
    "                          FROM soccer \\\n",
    "                          WHERE is_goal = 1 AND COUNTRY_CODE = 'ESP' \\\n",
    "                          GROUP BY shot_place_str, location_str \\\n",
    "                    ) tmp_in \\\n",
    "                    WHERE TOT_GOALS IS NOT NULL AND TOT_GOALS <> 0 \\\n",
    "                 ) tmp_out \\\n",
    "                WHERE goals_rank <= 3 AND location != 'Unknown' AND shot_place != 'Unknown' ORDER BY shot_place\")\n",
    "que7.show()"
   ]
  },
  {
   "cell_type": "markdown",
   "metadata": {},
   "source": [
    "Ans - above list can provide spain tema analyze what are their shot places and locations in the filed where the score the most or least"
   ]
  },
  {
   "cell_type": "code",
   "execution_count": 52,
   "metadata": {},
   "outputs": [
    {
     "name": "stdout",
     "output_type": "stream",
     "text": [
      "+-------+\n",
      "|country|\n",
      "+-------+\n",
      "|england|\n",
      "| france|\n",
      "|germany|\n",
      "|  italy|\n",
      "|  spain|\n",
      "+-------+\n",
      "\n"
     ]
    }
   ],
   "source": [
    "temp = spark.sql(\"SELECT distinct(country) \\\n",
    "                  FROM soccer \\\n",
    "                  WHERE is_goal == 1 \\\n",
    "                 ORDER BY 1 \")\n",
    "temp.show()"
   ]
  },
  {
   "cell_type": "code",
   "execution_count": 53,
   "metadata": {},
   "outputs": [
    {
     "name": "stdout",
     "output_type": "stream",
     "text": [
      "+-------+--------+---------+\n",
      "|country|TIME_BIN|TOT_GOALS|\n",
      "+-------+--------+---------+\n",
      "|england|     0.0|      289|\n",
      "|england|     1.0|      364|\n",
      "|england|     2.0|      364|\n",
      "|england|     3.0|      320|\n",
      "|england|     4.0|      422|\n",
      "|england|     5.0|      353|\n",
      "|england|     6.0|      385|\n",
      "|england|     7.0|      309|\n",
      "|england|     8.0|      354|\n",
      "|england|     9.0|      392|\n",
      "| france|     0.0|      455|\n",
      "| france|     1.0|      490|\n",
      "| france|     2.0|      506|\n",
      "| france|     3.0|      484|\n",
      "| france|     4.0|      567|\n",
      "| france|     5.0|      504|\n",
      "| france|     6.0|      535|\n",
      "| france|     7.0|      492|\n",
      "| france|     8.0|      535|\n",
      "| france|     9.0|      631|\n",
      "+-------+--------+---------+\n",
      "only showing top 20 rows\n",
      "\n"
     ]
    }
   ],
   "source": [
    "# Que 8. Goal distribution in different time bins for all countries- time bins from 0.0 i.e min 1- 10 till 9.0 i,e min 8.0 to 9.0\n",
    "que8 = spark.sql(\"SELECT country, TIME_BIN, COUNT(1) TOT_GOALS \\\n",
    "                  FROM soccer \\\n",
    "                  WHERE is_goal = 1 \\\n",
    "                  GROUP BY country, TIME_BIN \\\n",
    "                  ORDER BY country, TIME_BIN\")\n",
    "que8.show()"
   ]
  },
  {
   "cell_type": "code",
   "execution_count": 54,
   "metadata": {},
   "outputs": [
    {
     "data": {
      "image/png": "[encoded data removed]",
      "text/plain": [
       "<Figure size 1080x360 with 1 Axes>"
      ]
     },
     "metadata": {},
     "output_type": "display_data"
    }
   ],
   "source": [
    "res8 = que8.toPandas()\n",
    "# Get no of goals for time bin for each country to crteate dataframe to show trend line graph\n",
    "england = res8[res8['country']=='england']\n",
    "#england.TOT_GOALS\n",
    "france = res8[res8['country']=='france']\n",
    "#print(france.TOT_GOALS)\n",
    "germany = res8[res8['country']=='germany']\n",
    "#print(germany.TOT_GOALS)\n",
    "italy = res8[res8['country']=='italy']\n",
    "#print('italy',italy.TOT_GOALS)\n",
    "spain = res8[res8['country']=='spain']\n",
    "#print('spain',spain.TOT_GOALS)\n",
    "\n",
    "# Create pandas dataframe\n",
    "df = pd.DataFrame({\n",
    "    'england': [289, 364, 364, 320, 422, 353, 385, 309, 354, 392],\n",
    "    'france': [455, 490, 506, 484, 567, 504, 535, 492, 535, 631],\n",
    "    'germany': [418, 466, 521, 417, 461, 496, 486, 411, 507, 438],\n",
    "    'italy': [488, 516, 592, 495, 557, 601, 545, 531, 566, 600],\n",
    "    'spain': [511, 495, 653, 529, 565, 576, 556, 492, 579, 627]},\n",
    "    index=[0.0, 1.0, 2.0, 3.0, 4.0, 5.0, 6.0, 7.0, 8.0, 9.0])\n",
    "lines = df.plot.line(figsize=(15,5))"
   ]
  },
  {
   "cell_type": "markdown",
   "metadata": {},
   "source": [
    "Interpretation from above trend:\n",
    "- From above graph we can see that, england starts with low goal scores and tend to gain a little traction during mid and end minutes of the game.\n",
    "- Germany's goal distribution is quiet even throughout the game but loses goal scores mostly at the end\n",
    "- Same with France but they tend to score goals in last minutes often\n",
    "- Italy has good progress as compared to others throughout the game\n",
    "- Whereas Spain tends to score most of their goals at the start, while they slow down in mid minutes of the game, roaring at the end. So the opponent countries should try to stop them at the start of the game if they want to win it."
   ]
  },
  {
   "cell_type": "code",
   "execution_count": null,
   "metadata": {},
   "outputs": [],
   "source": []
  }
 ],
 "metadata": {
  "kernelspec": {
   "display_name": "Python 3",
   "language": "python",
   "name": "python3"
  },
  "language_info": {
   "codemirror_mode": {
    "name": "ipython",
    "version": 3
   },
   "file_extension": ".py",
   "mimetype": "text/x-python",
   "name": "python",
   "nbconvert_exporter": "python",
   "pygments_lexer": "ipython3",
   "version": "3.6.6"
  }
 },
 "nbformat": 4,
 "nbformat_minor": 2
}
